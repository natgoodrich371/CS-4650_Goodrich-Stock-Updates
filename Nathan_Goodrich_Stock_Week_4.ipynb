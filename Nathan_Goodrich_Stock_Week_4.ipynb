{
  "nbformat": 4,
  "nbformat_minor": 0,
  "metadata": {
    "colab": {
      "name": "Untitled1.ipynb",
      "provenance": [],
      "authorship_tag": "ABX9TyMkiw/2t/CzDZuRYmt4N39J",
      "include_colab_link": true
    },
    "kernelspec": {
      "name": "python3",
      "display_name": "Python 3"
    },
    "language_info": {
      "name": "python"
    }
  },
  "cells": [
    {
      "cell_type": "markdown",
      "metadata": {
        "id": "view-in-github",
        "colab_type": "text"
      },
      "source": [
        "<a href=\"https://colab.research.google.com/github/natgoodrich371/CS-4650_Goodrich-Stock-Updates/blob/main/Nathan_Goodrich_Stock_Week_4.ipynb\" target=\"_parent\"><img src=\"https://colab.research.google.com/assets/colab-badge.svg\" alt=\"Open In Colab\"/></a>"
      ]
    },
    {
      "cell_type": "markdown",
      "source": [
        "For this final week, I focused more on selling off my stocks rather than buying so I can make sure I made as much of a profit this week that I could. One of my failures during this process was how I had much more a long-term view of the stocks rather than a short-term. Whenever I saw one of my stock's rise, instead of selling while the iron is hot, I got greedy and wanted to see if it would go up any higher. Unfortanetly, that ended up being my main downfall, especially given how the stock market completely crashed over the last week. I made one trade during between Monday and Thursday with the goal in mind to sell my stocks at the end of the week, but unfortanetly the game closed Friday morning so I couldn't make any more transactions. My completed (and planned) trades for the week were:\n",
        "\n",
        "1. Sell CSCO. I was not getting anywhere with the stock, so I just waited long enough until I got close to breaking even (completed).\n",
        "2. Sell Target. This was a stock that if I sold a week ago I would've made profit. The shopping season had a positive effect on the stock initially, but I ended up getting close to breaking even.\n",
        "3. Sell Walmart: Similar to Target, though the stock did increase as the week went on, but just barely under for me to break even."
      ],
      "metadata": {
        "id": "pJvdzqsJgCld"
      }
    }
  ]
}